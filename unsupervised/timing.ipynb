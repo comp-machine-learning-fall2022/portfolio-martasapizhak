{
 "cells": [
  {
   "cell_type": "markdown",
   "source": [
    "## Running time\n",
    "This file summarizes ways to find time and space complexity of algorithms. For the comparison, I will consider k-means implementations and walk through different ways to get the algorithm runninng time.\n",
    "\n",
    "It's important to pay attention to these factors when implementing something, for plenty of reasons. Some of them may include environmental awareness, financial cost of memory and processors, as well as just time consumption."
   ],
   "metadata": {
    "collapsed": false,
    "pycharm": {
     "name": "#%% md\n"
    }
   }
  },
  {
   "cell_type": "code",
   "execution_count": null,
   "outputs": [],
   "source": [
    "# Imports block\n",
    "%matplotlib inline\n",
    "\n",
    "import matplotlib.pyplot as plt\n",
    "import seaborn as sns; sns.set()\n",
    "import numpy as np\n",
    "import pandas as pd\n",
    "import timeit\n",
    "import time\n",
    "import line_profiler\n",
    "import memory_profiler \n",
    "import random\n",
    "\n",
    "from scipy.spatial import distance\n",
    "from sklearn.cluster import KMeans\n",
    "from line_profiler_pycharm import profile"
   ],
   "metadata": {
    "collapsed": false,
    "pycharm": {
     "name": "#%%\n"
    }
   }
  },
  {
   "cell_type": "code",
   "execution_count": null,
   "outputs": [],
   "source": [
    "# Import data\n",
    "data1 = pd.read_csv(\"data_kmeans.csv\", sep = \",\")\n",
    "data1_np = data1.to_numpy()"
   ],
   "metadata": {
    "collapsed": false,
    "pycharm": {
     "name": "#%%\n"
    }
   }
  },
  {
   "cell_type": "code",
   "execution_count": null,
   "outputs": [],
   "source": [
    "# Here a k-means algorithm is implemented from scratch\n",
    "def my_kmeans(data, clusters_num):\n",
    "    \"\"\"\n",
    "    :param data: data to cluster\n",
    "    :param clusters_num: number of clusters to separate data into\n",
    "    :return: labels indentifying points belonging to a cluster, cluster centers\n",
    "\n",
    "    \"\"\"\n",
    "    centers = np.ones((clusters_num, data.shape[1]))\n",
    "    for i in range(clusters_num):\n",
    "        centers[i] = data.sample(1)\n",
    "    centers = centers[:,:2]\n",
    "    data = data.to_numpy()[:,:2]\n",
    "    labels = np.ones((data.shape[0],1))\n",
    "\n",
    "    for i in range(1000):\n",
    "        for j in range(clusters_num):\n",
    "            dists = distance.cdist(data, centers, 'euclidean')\n",
    "            label_j = np.argmin(dists, axis=1)\n",
    "            inds = label_j == j\n",
    "            labels[inds] = j\n",
    "            center = np.mean(data[inds], axis=0)\n",
    "            centers[j] = center\n",
    "    return labels, centers"
   ],
   "metadata": {
    "collapsed": false,
    "pycharm": {
     "name": "#%%\n"
    }
   }
  },
  {
   "cell_type": "code",
   "execution_count": null,
   "outputs": [],
   "source": [
    "# Function using KMeans sklearn implementation\n",
    "def sklearn_kmeans(data, k):\n",
    "    \"\"\"\n",
    "    :param data: data to cluster\n",
    "    :param k: number of cluster to separate data into\n",
    "    :return: labels indentifying points belonging to a cluster, cluster centers\n",
    "    \"\"\"\n",
    "    km_alg = KMeans(n_clusters=k, init=\"random\", random_state=70, max_iter=200)\n",
    "    fit = km_alg.fit(data)\n",
    "    return fit.labels_, fit.cluster_centers_"
   ],
   "metadata": {
    "collapsed": false,
    "pycharm": {
     "name": "#%%\n"
    }
   }
  },
  {
   "cell_type": "code",
   "execution_count": null,
   "outputs": [],
   "source": [
    "labels, centers = sklearn_kmeans(data1_np,4)\n",
    "plt.scatter(data1_np[:, 0], data1_np[:, 1], c=labels)"
   ],
   "metadata": {
    "collapsed": false,
    "pycharm": {
     "name": "#%%\n"
    }
   }
  },
  {
   "cell_type": "code",
   "execution_count": null,
   "outputs": [],
   "source": [
    "labels1, centers1 = my_kmeans(data1, 4)\n",
    "plt.scatter(data1_np[:, 0], data1_np[:, 1], c=labels1)"
   ],
   "metadata": {
    "collapsed": false,
    "pycharm": {
     "name": "#%%\n"
    }
   }
  },
  {
   "cell_type": "markdown",
   "source": [
    "Firstly, time the two algorithms by their running time for comparison."
   ],
   "metadata": {
    "collapsed": false,
    "pycharm": {
     "name": "#%% md\n"
    }
   }
  },
  {
   "cell_type": "code",
   "execution_count": null,
   "outputs": [],
   "source": [
    "start_time = time.time()\n",
    "\n",
    "my_kmeans(data1, 4)\n",
    "\n",
    "stop_time = time.time()\n",
    "\n",
    "print(\"This took %s seconds to run\" % (stop_time-start_time))"
   ],
   "metadata": {
    "collapsed": false,
    "pycharm": {
     "name": "#%%\n"
    }
   }
  },
  {
   "cell_type": "code",
   "execution_count": null,
   "outputs": [],
   "source": [
    "start_time = time.time()\n",
    "\n",
    "sklearn_kmeans(data1_np, 4)\n",
    "\n",
    "stop_time = time.time()\n",
    "\n",
    "print(\"This took %s seconds to run\" % (stop_time-start_time))"
   ],
   "metadata": {
    "collapsed": false,
    "pycharm": {
     "name": "#%%\n"
    }
   }
  },
  {
   "cell_type": "markdown",
   "source": [
    "Time module measures run time using system time and while it's somewhat representative, there can be small changes in run time, and in `timeit`, we run the code several times to find the average run time."
   ],
   "metadata": {
    "collapsed": false,
    "pycharm": {
     "name": "#%% md\n"
    }
   }
  },
  {
   "cell_type": "code",
   "execution_count": null,
   "outputs": [],
   "source": [
    "%%timeit\n",
    "\n",
    "my_kmeans(data1, 4)"
   ],
   "metadata": {
    "collapsed": false,
    "pycharm": {
     "name": "#%%\n"
    }
   }
  },
  {
   "cell_type": "code",
   "execution_count": null,
   "outputs": [],
   "source": [
    "%%timeit\n",
    "\n",
    "sklearn_kmeans(data1_np, 4)"
   ],
   "metadata": {
    "collapsed": false,
    "pycharm": {
     "name": "#%%\n"
    }
   }
  },
  {
   "cell_type": "markdown",
   "source": [
    "Obviously, my implementation of k-means is slower than the one from sklearn. \n",
    "When we _benchmark_ code, we examine how fast each piece of the code is. \n",
    "\n",
    "To look into the runtime in more detail, we profile code using line-by-line profiler.\n",
    "Benchmarking as a whole allows us to determine if we need to edit or change any lines due to _bottlenecking_"
   ],
   "metadata": {
    "collapsed": false,
    "pycharm": {
     "name": "#%% md\n"
    }
   }
  },
  {
   "cell_type": "markdown",
   "source": [
    "### For a dictionary reminder:\n",
    "#### Epoch\n",
    "An epoch is the point where the algorithm has seen the \n",
    "whole set of training data exactly one time. While the input data may be of a different size, it is all same for epoch. Therefore the epochs are convinient for comparing algorithms, when the data they're applied to differs by size.\n",
    "\n",
    "#### Batch Size\n",
    "\n",
    "_Batch size_ is the number of training examples that the algorithm \"sees\" in each pass.\n",
    "\n",
    "#### Iterations\n",
    "_Iterations_ is the number of iterations needed to complete one epoch for the algorithm."
   ],
   "metadata": {
    "collapsed": false,
    "pycharm": {
     "name": "#%% md\n"
    }
   }
  },
  {
   "cell_type": "code",
   "execution_count": null,
   "outputs": [],
   "source": [
    "%prun sklearn_kmeans(data1_np, 4)"
   ],
   "metadata": {
    "collapsed": false,
    "pycharm": {
     "name": "#%%\n"
    }
   }
  },
  {
   "cell_type": "code",
   "execution_count": null,
   "outputs": [],
   "source": [
    "%prun my_kmeans(data1, 4)"
   ],
   "metadata": {
    "collapsed": false,
    "pycharm": {
     "name": "#%%\n"
    }
   }
  },
  {
   "cell_type": "markdown",
   "source": [
    "From looking into profiler, we can determine which parts of code are called most frequently, how much time each call takes, and how much they total into\n",
    "\n",
    "Most \"expensive\" calls we have in sklearn_kmeans are euclidian distances function, validation and object reductioon\n",
    "\n",
    "For my implementation, some of the functions that take more time are distance, means, reduction. Because it's iterating a constant number of times, the code runs for 800 epochs, hence a bigger number."
   ],
   "metadata": {
    "collapsed": false,
    "pycharm": {
     "name": "#%% md\n"
    }
   }
  },
  {
   "cell_type": "code",
   "execution_count": null,
   "outputs": [],
   "source": [
    "%load_ext line_profiler"
   ],
   "metadata": {
    "collapsed": false,
    "pycharm": {
     "name": "#%%\n"
    }
   }
  },
  {
   "cell_type": "markdown",
   "source": [
    "While %prune looks a little intimidating to analyze, line profiler provides general statistics for each line in the file separately. It's convinient for knowing what should be changed to improve efficien"
   ],
   "metadata": {
    "collapsed": false,
    "pycharm": {
     "name": "#%% md\n"
    }
   }
  },
  {
   "cell_type": "code",
   "execution_count": null,
   "outputs": [],
   "source": [
    "%lprun -f my_kmeans my_kmeans(data1, 4)"
   ],
   "metadata": {
    "collapsed": false,
    "pycharm": {
     "name": "#%%\n"
    }
   }
  },
  {
   "cell_type": "code",
   "execution_count": null,
   "outputs": [],
   "source": [
    "%lprun -f sklearn_kmeans sklearn_kmeans(data1_np, 4)"
   ],
   "metadata": {
    "collapsed": false,
    "pycharm": {
     "name": "#%%\n"
    }
   }
  },
  {
   "cell_type": "markdown",
   "source": [
    "In some cases it's useful to know how much memory an algorithm takes while running. It's possible to explore using memory profiler. From the memory standpoint, my algorithns is not that bad :)"
   ],
   "metadata": {
    "collapsed": false,
    "pycharm": {
     "name": "#%% md\n"
    }
   }
  },
  {
   "cell_type": "code",
   "execution_count": null,
   "outputs": [],
   "source": [
    "%load_ext memory_profiler"
   ],
   "metadata": {
    "collapsed": false,
    "pycharm": {
     "name": "#%%\n"
    }
   }
  },
  {
   "cell_type": "code",
   "execution_count": null,
   "outputs": [],
   "source": [
    "%memit my_kmeans(data1, 4)"
   ],
   "metadata": {
    "collapsed": false,
    "pycharm": {
     "name": "#%%\n"
    }
   }
  },
  {
   "cell_type": "code",
   "execution_count": null,
   "outputs": [],
   "source": [
    "%memit sklearn_kmeans(data1_np, 4)"
   ],
   "metadata": {
    "collapsed": false,
    "pycharm": {
     "name": "#%%\n"
    }
   }
  }
 ],
 "metadata": {
  "kernelspec": {
   "display_name": "Python 3 (ipykernel)",
   "language": "python",
   "name": "python3"
  },
  "language_info": {
   "codemirror_mode": {
    "name": "ipython",
    "version": 3
   },
   "file_extension": ".py",
   "mimetype": "text/x-python",
   "name": "python",
   "nbconvert_exporter": "python",
   "pygments_lexer": "ipython3",
   "version": "3.9.12"
  }
 },
 "nbformat": 4,
 "nbformat_minor": 1
}