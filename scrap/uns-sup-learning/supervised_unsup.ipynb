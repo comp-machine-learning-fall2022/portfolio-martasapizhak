{
 "cells": [
  {
   "cell_type": "markdown",
   "source": [
    "Here I'm talking about different ways to separate data into multiple groups, using supervised and unsupervised ML algorithms.\n",
    "1. kMeans\n",
    "2. mini-batch-k\n",
    "4. Gaussian mixture\n",
    "Classification\n",
    "1. kNN\n",
    "2. SVM\n",
    "3. Decision Trees\n",
    "4. Random trees\n",
    "5.\n",
    "\n",
    "\n",
    "Clustering Types\n",
    "Following are the clustering types of Machine Learning:\n",
    "Use cases\n",
    "Ethical implications\n",
    "\n",
    "\n",
    "K-means clustering\n",
    "K-NN (k nearest neighbors)\n",
    "Principal Component Analysis\n",
    "Singular Value Decomposition\n",
    "https://www.guru99.com/unsupervised-machine-learning.html"
   ],
   "metadata": {
    "collapsed": false,
    "pycharm": {
     "name": "#%% md\n"
    }
   }
  },
  {
   "cell_type": "code",
   "execution_count": null,
   "metadata": {
    "collapsed": true,
    "pycharm": {
     "name": "#%%\n"
    }
   },
   "outputs": [],
   "source": []
  },
  {
   "cell_type": "markdown",
   "source": [
    "when to use:\n",
    "spectral clustering\n",
    "k-means\n",
    "kNN\n",
    "classification\n",
    "\n",
    "use crosswal and plots to prove the point"
   ],
   "metadata": {
    "collapsed": false,
    "pycharm": {
     "name": "#%% md\n"
    }
   }
  }
 ],
 "metadata": {
  "kernelspec": {
   "display_name": "Python 3",
   "language": "python",
   "name": "python3"
  },
  "language_info": {
   "codemirror_mode": {
    "name": "ipython",
    "version": 2
   },
   "file_extension": ".py",
   "mimetype": "text/x-python",
   "name": "python",
   "nbconvert_exporter": "python",
   "pygments_lexer": "ipython2",
   "version": "2.7.6"
  }
 },
 "nbformat": 4,
 "nbformat_minor": 0
}